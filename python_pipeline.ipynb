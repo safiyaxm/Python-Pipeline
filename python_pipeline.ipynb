{
  "nbformat": 4,
  "nbformat_minor": 0,
  "metadata": {
    "colab": {
      "provenance": []
    },
    "kernelspec": {
      "name": "python3",
      "display_name": "Python 3"
    },
    "language_info": {
      "name": "python"
    }
  },
  "cells": [
    {
      "cell_type": "code",
      "execution_count": null,
      "metadata": {
        "id": "YD7HhWpwEGUa",
        "colab": {
          "base_uri": "https://localhost:8080/",
          "height": 69
        },
        "outputId": "86fd2e49-b348-46cf-f404-64557325acb1"
      },
      "outputs": [
        {
          "name": "stdout",
          "output_type": "stream",
          "text": [
            "Enter the text: safiya\n",
            "Enter the font size: 100\n",
            "Enter the font family (e.g., Arial, Times New Roman): proxima nova\n"
          ]
        },
        {
          "output_type": "display_data",
          "data": {
            "text/plain": [
              "<IPython.core.display.Javascript object>"
            ],
            "application/javascript": [
              "\n",
              "    async function download(id, filename, size) {\n",
              "      if (!google.colab.kernel.accessAllowed) {\n",
              "        return;\n",
              "      }\n",
              "      const div = document.createElement('div');\n",
              "      const label = document.createElement('label');\n",
              "      label.textContent = `Downloading \"${filename}\": `;\n",
              "      div.appendChild(label);\n",
              "      const progress = document.createElement('progress');\n",
              "      progress.max = size;\n",
              "      div.appendChild(progress);\n",
              "      document.body.appendChild(div);\n",
              "\n",
              "      const buffers = [];\n",
              "      let downloaded = 0;\n",
              "\n",
              "      const channel = await google.colab.kernel.comms.open(id);\n",
              "      // Send a message to notify the kernel that we're ready.\n",
              "      channel.send({})\n",
              "\n",
              "      for await (const message of channel.messages) {\n",
              "        // Send a message to notify the kernel that we're ready.\n",
              "        channel.send({})\n",
              "        if (message.buffers) {\n",
              "          for (const buffer of message.buffers) {\n",
              "            buffers.push(buffer);\n",
              "            downloaded += buffer.byteLength;\n",
              "            progress.value = downloaded;\n",
              "          }\n",
              "        }\n",
              "      }\n",
              "      const blob = new Blob(buffers, {type: 'application/binary'});\n",
              "      const a = document.createElement('a');\n",
              "      a.href = window.URL.createObjectURL(blob);\n",
              "      a.download = filename;\n",
              "      div.appendChild(a);\n",
              "      a.click();\n",
              "      div.remove();\n",
              "    }\n",
              "  "
            ]
          },
          "metadata": {}
        },
        {
          "output_type": "display_data",
          "data": {
            "text/plain": [
              "<IPython.core.display.Javascript object>"
            ],
            "application/javascript": [
              "download(\"download_ef4ef9d8-c407-4070-b3df-d5f9f6c530f3\", \"output.html\", 565)"
            ]
          },
          "metadata": {}
        }
      ],
      "source": [
        "from google.colab import files\n",
        "\n",
        "def generate_colored_text(text, font_size=100, font_family='proxima nova'):\n",
        "    colors = ['#A1045A', '#B65FCF', '#663046', '#B65FCF', '#663046', '#A1045A',]\n",
        "    colored_text = ''\n",
        "    for i, char in enumerate(text):\n",
        "        color = colors[i % len(colors)]\n",
        "        # Add font-size and font-family attributes to span tag\n",
        "        colored_text += f'<span style=\"color:{color}; font-size:{font_size}px; font-family:{font_family}\">{char}</span>'\n",
        "    # Wrap colored text in a div element with centering style\n",
        "    colored_text = f'<div style=\"display:flex; justify-content:center; align-items:center; height:100vh;\">{colored_text}</div>'\n",
        "    return colored_text\n",
        "\n",
        "original_text = input(\"Enter the text: \")\n",
        "\n",
        "# Get desired font size and font family from user input\n",
        "font_size = int(input(\"Enter the font size: \"))\n",
        "font_family = input(\"Enter the font family (e.g., Arial, Times New Roman): \")\n",
        "\n",
        "colored_text = generate_colored_text(original_text, font_size, font_family)\n",
        "\n",
        "output_file_path = 'output.html'\n",
        "with open(output_file_path, 'w') as output_file:\n",
        "    output_file.write(colored_text)\n",
        "\n",
        "files.download(output_file_path)\n"
      ]
    }
  ]
}